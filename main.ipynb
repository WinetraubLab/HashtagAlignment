{
  "cells": [
    {
      "cell_type": "markdown",
      "source": [
        "# Compute Similarity Measures"
      ],
      "metadata": {
        "id": "fHisYrTLJw7v"
      }
    },
    {
      "cell_type": "markdown",
      "source": [
        "Click to open in: [[GitHub](https://github.com/WinetraubLab/OCT2Hist-ModelEvaluation-ComputeSimilarityMeasures/blob/main/main.ipynb)][[Colab](https://colab.research.google.com/github/WinetraubLab/OCT2Hist-ModelEvaluation-ComputeSimilarityMeasures/blob/main/main.ipynb)]"
      ],
      "metadata": {
        "id": "svJABVdlruQ5"
      }
    },
    {
      "cell_type": "markdown",
      "metadata": {
        "id": "4EGufdffjHjK"
      },
      "source": [
        "## Inputs\n"
      ]
    },
    {
      "cell_type": "code",
      "execution_count": 1,
      "metadata": {
        "id": "z_G_r9iwjDXq"
      },
      "outputs": [],
      "source": [
        "# Input file path of images\n",
        "images_folder = '/content/drive/Shareddrives/Yolab - Current Projects/_Datasets/2020-11-10 10x OCT2Hist Model (Paper V2)/Results/TestSet/'\n",
        "\n",
        "# Select how many paired images and their scores to present (best and worst scores)\n",
        "number = 5\n",
        "\n",
        "# Output CSV file path where the scores of each image will be saved to and name of CSV file\n",
        "output_csv_file_path = '/content/output.csv'"
      ]
    },
    {
      "cell_type": "markdown",
      "source": [
        "## Installation Commands"
      ],
      "metadata": {
        "id": "NsnmwYB-FEFp"
      }
    },
    {
      "cell_type": "code",
      "source": [
        "!git clone https://github.com/WinetraubLab/OCT2Hist-ModelEvaluation-ComputeSimilarityMeasures.git\n",
        "\n",
        "from google.colab import drive\n",
        "drive.mount('/content/drive')\n",
        "\n",
        "import sys\n",
        "sys.path.append('OCT2Hist-ModelEvaluation-ComputeSimilarityMeasures')"
      ],
      "metadata": {
        "id": "HQUzP_PHFFup",
        "outputId": "da5bb6b3-b090-405e-e3f8-3860705e9a2a",
        "colab": {
          "base_uri": "https://localhost:8080/"
        }
      },
      "execution_count": 2,
      "outputs": [
        {
          "output_type": "stream",
          "name": "stdout",
          "text": [
            "Cloning into 'OCT2Hist-ModelEvaluation-ComputeSimilarityMeasures'...\n",
            "remote: Enumerating objects: 321, done.\u001b[K\n",
            "remote: Counting objects: 100% (152/152), done.\u001b[K\n",
            "remote: Compressing objects: 100% (102/102), done.\u001b[K\n",
            "remote: Total 321 (delta 93), reused 102 (delta 48), pack-reused 169\u001b[K\n",
            "Receiving objects: 100% (321/321), 3.47 MiB | 21.95 MiB/s, done.\n",
            "Resolving deltas: 100% (193/193), done.\n",
            "Mounted at /content/drive\n"
          ]
        }
      ]
    },
    {
      "cell_type": "markdown",
      "metadata": {
        "id": "TGh3vysxja3S"
      },
      "source": [
        "# Main Function"
      ]
    },
    {
      "cell_type": "code",
      "execution_count": 3,
      "metadata": {
        "id": "iyQDgehfDxgC",
        "outputId": "e54ce8a8-4cc1-4e00-ba31-194f9fe0ef02",
        "colab": {
          "base_uri": "https://localhost:8080/",
          "height": 392
        }
      },
      "outputs": [
        {
          "output_type": "error",
          "ename": "error",
          "evalue": "ignored",
          "traceback": [
            "\u001b[0;31m---------------------------------------------------------------------------\u001b[0m",
            "\u001b[0;31merror\u001b[0m                                     Traceback (most recent call last)",
            "\u001b[0;32m<ipython-input-3-72c612987343>\u001b[0m in \u001b[0;36m<cell line: 14>\u001b[0;34m()\u001b[0m\n\u001b[1;32m     12\u001b[0m \u001b[0;31m#ssim, mse, psnr, mae, pcc = calculateMetricArrays(real_list, fake_list, mask_list, output_csv_file_path)\u001b[0m\u001b[0;34m\u001b[0m\u001b[0;34m\u001b[0m\u001b[0m\n\u001b[1;32m     13\u001b[0m \u001b[0;31m# Un comment line below for computing metrics while ignoring the mask\u001b[0m\u001b[0;34m\u001b[0m\u001b[0;34m\u001b[0m\u001b[0m\n\u001b[0;32m---> 14\u001b[0;31m \u001b[0mssim\u001b[0m\u001b[0;34m,\u001b[0m \u001b[0mmse\u001b[0m\u001b[0;34m,\u001b[0m \u001b[0mpsnr\u001b[0m\u001b[0;34m,\u001b[0m \u001b[0mmae\u001b[0m\u001b[0;34m,\u001b[0m \u001b[0mpcc\u001b[0m \u001b[0;34m=\u001b[0m \u001b[0mcalculateMetricArrays\u001b[0m\u001b[0;34m(\u001b[0m\u001b[0mreal_list\u001b[0m\u001b[0;34m,\u001b[0m \u001b[0mfake_list\u001b[0m\u001b[0;34m,\u001b[0m \u001b[0moutput_csv_file_path\u001b[0m\u001b[0;34m)\u001b[0m\u001b[0;34m\u001b[0m\u001b[0;34m\u001b[0m\u001b[0m\n\u001b[0m",
            "\u001b[0;32m/content/OCT2Hist-ModelEvaluation-ComputeSimilarityMeasures/calculateMetricArrays.py\u001b[0m in \u001b[0;36mcalculateMetricArrays\u001b[0;34m(real_image_paths, fake_image_paths, mask_image_paths, outputFilePath)\u001b[0m\n\u001b[1;32m     59\u001b[0m             \u001b[0;31m# Converts mask into binary values\u001b[0m\u001b[0;34m\u001b[0m\u001b[0;34m\u001b[0m\u001b[0m\n\u001b[1;32m     60\u001b[0m             \u001b[0mmask_image\u001b[0m \u001b[0;34m=\u001b[0m \u001b[0mnp\u001b[0m\u001b[0;34m.\u001b[0m\u001b[0marray\u001b[0m\u001b[0;34m(\u001b[0m\u001b[0mcv2\u001b[0m\u001b[0;34m.\u001b[0m\u001b[0mimread\u001b[0m\u001b[0;34m(\u001b[0m\u001b[0mmask_image_paths\u001b[0m\u001b[0;34m[\u001b[0m\u001b[0mi\u001b[0m\u001b[0;34m]\u001b[0m\u001b[0;34m,\u001b[0m \u001b[0mcv2\u001b[0m\u001b[0;34m.\u001b[0m\u001b[0mIMREAD_GRAYSCALE\u001b[0m\u001b[0;34m)\u001b[0m\u001b[0;34m)\u001b[0m\u001b[0;34m\u001b[0m\u001b[0;34m\u001b[0m\u001b[0m\n\u001b[0;32m---> 61\u001b[0;31m             \u001b[0mmask_image\u001b[0m \u001b[0;34m=\u001b[0m \u001b[0mcv2\u001b[0m\u001b[0;34m.\u001b[0m\u001b[0mthreshold\u001b[0m\u001b[0;34m(\u001b[0m\u001b[0mmask_image\u001b[0m\u001b[0;34m,\u001b[0m \u001b[0;36m128\u001b[0m\u001b[0;34m,\u001b[0m \u001b[0;36m256\u001b[0m\u001b[0;34m,\u001b[0m \u001b[0mcv2\u001b[0m\u001b[0;34m.\u001b[0m\u001b[0mTHRESH_BINARY\u001b[0m\u001b[0;34m)\u001b[0m\u001b[0;34m[\u001b[0m\u001b[0;36m1\u001b[0m\u001b[0;34m]\u001b[0m\u001b[0;34m\u001b[0m\u001b[0;34m\u001b[0m\u001b[0m\n\u001b[0m\u001b[1;32m     62\u001b[0m \u001b[0;34m\u001b[0m\u001b[0m\n\u001b[1;32m     63\u001b[0m             \u001b[0;31m# Isolates the section of the images as delineated by the mask\u001b[0m\u001b[0;34m\u001b[0m\u001b[0;34m\u001b[0m\u001b[0m\n",
            "\u001b[0;31merror\u001b[0m: OpenCV(4.8.0) :-1: error: (-5:Bad argument) in function 'threshold'\n> Overload resolution failed:\n>  - src data type = 17 is not supported\n>  - Expected Ptr<cv::UMat> for argument 'src'\n"
          ]
        }
      ],
      "source": [
        "from splitImagesInFolderToRealAndFakeLists import splitImagesInFolderToRealAndFakeLists\n",
        "from calculateMetricArrays import calculateMetricArrays\n",
        "from printMetricAverages import printMetricAverages\n",
        "from pickTopScoringImagePairs import pickTopScoringImagePairs\n",
        "from printTopScoringImagePairs import printTopScoringImagePairs\n",
        "from pickLowestScoringImagePairs import pickLowestScoringImagePairs\n",
        "from printLowestScoringImagePairs import printLowestScoringImagePairs\n",
        "\n",
        "real_list, fake_list, mask_list = splitImagesInFolderToRealAndFakeLists(images_folder)\n",
        "\n",
        "# Un comment line below for computing metrics while considering the mask\n",
        "#ssim, mse, psnr, mae, pcc = calculateMetricArrays(real_list, fake_list, mask_list, output_csv_file_path)\n",
        "# Un comment line below for computing metrics while ignoring the mask\n",
        "ssim, mse, psnr, mae, pcc = calculateMetricArrays(real_list, fake_list, output_csv_file_path)"
      ]
    },
    {
      "cell_type": "markdown",
      "metadata": {
        "id": "doTLHuwpjxG9"
      },
      "source": [
        "# Output - Metric Score Averages"
      ]
    },
    {
      "cell_type": "code",
      "execution_count": null,
      "metadata": {
        "id": "6oZ1-FiWj3wF"
      },
      "outputs": [],
      "source": [
        "printMetricAverages(ssim, mse, psnr, mae, pcc)"
      ]
    },
    {
      "cell_type": "markdown",
      "metadata": {
        "id": "WLho6Kk6jgQj"
      },
      "source": [
        "# Output - Best Scores"
      ]
    },
    {
      "cell_type": "code",
      "execution_count": null,
      "metadata": {
        "id": "HdL_b3Fqjll2"
      },
      "outputs": [],
      "source": [
        "top = pickTopScoringImagePairs(ssim, mse, psnr, mae, pcc, number)\n",
        "printTopScoringImagePairs(ssim, mse, psnr, mae, pcc, top, real_list, fake_list, number)"
      ]
    },
    {
      "cell_type": "markdown",
      "metadata": {
        "id": "Sd49FGT8jo5Y"
      },
      "source": [
        "# Output - Worst Scores"
      ]
    },
    {
      "cell_type": "code",
      "execution_count": null,
      "metadata": {
        "id": "MXBUmHFNjrDm"
      },
      "outputs": [],
      "source": [
        "low = pickLowestScoringImagePairs(ssim, mse, psnr, mae, pcc, number)\n",
        "printLowestScoringImagePairs(ssim, mse, psnr, mae, pcc, low, real_list, fake_list, number)"
      ]
    }
  ],
  "metadata": {
    "colab": {
      "provenance": []
    },
    "kernelspec": {
      "display_name": "Python 3",
      "name": "python3"
    },
    "language_info": {
      "name": "python"
    }
  },
  "nbformat": 4,
  "nbformat_minor": 0
}